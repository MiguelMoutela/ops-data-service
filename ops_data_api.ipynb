{
 "cells": [
  {
   "cell_type": "code",
   "execution_count": null,
   "metadata": {},
   "outputs": [],
   "source": [
    "# Establish accounts. Fill out variables here as needed. i.e. project/awardee/pmi_account/service_account\n",
    "# Once you save this file, you don't have to retype these.\n",
    "\n",
    "project = \"all-of-us-rdr-stable\" # type in environment if not stable\n",
    "awardee = \"PITT\" # fill in your awardee\n",
    "pmi_account = \"you@pmi-ops.org\" # update your pmi-ops account.\n",
    "service_account = \"awardee-XXX@all-of-us-ops-data-api-stable.iam.gserviceaccount.com\" #update to your service account"
   ]
  },
  {
   "cell_type": "code",
   "execution_count": null,
   "metadata": {
    "scrolled": true
   },
   "outputs": [],
   "source": [
    "# Authentication. This cell creates a key for your service account, you don't need to do anything.\n",
    "import re\n",
    "import os\n",
    "results = !gcloud -q iam service-accounts keys create --account $pmi_account --project $project --iam-account $service_account gcloud_key.json\n",
    "print(results)\n",
    "key_id = re.search('.*?\\[(.*?)\\]', results[0]).groups()[0]\n",
    "print(\"Google Key ID: {0}\".format(key_id))\n",
    "!gcloud -q auth activate-service-account --key-file=gcloud_key.json"
   ]
  },
  {
   "cell_type": "code",
   "execution_count": null,
   "metadata": {},
   "outputs": [],
   "source": [
    "# Get Oauth Token, refresh as needed.\n",
    "token = !gcloud -q auth print-access-token\n",
    "token = token[0]\n",
    "headers = {'content-type': 'application/json', 'Authorization': 'Bearer {0}'.format(token)}\n",
    "print('Authentication Token Ready!') if token.startswith('ya') else 'Authentication Token Error!'"
   ]
  },
  {
   "cell_type": "code",
   "execution_count": null,
   "metadata": {},
   "outputs": [],
   "source": [
    "# Make request to get API version. This is the current RDR version for reference\n",
    "import requests\n",
    "resp = requests.get('http://all-of-us-rdr-stable.appspot.com/rdr/v1/', headers=headers)\n",
    "print(resp.json())"
   ]
  },
  {
   "cell_type": "code",
   "execution_count": null,
   "metadata": {},
   "outputs": [],
   "source": [
    "# Request first 25 participants by default. You can change parameters of the url as needed.\n",
    "# See https://github.com/all-of-us/raw-data-repository/blob/master/opsdataAPI.md for documentation of this api.\n",
    "\n",
    "url = 'http://{0}.appspot.com/rdr/v1/ParticipantSummary?_sort=lastModified&_count=25&awardee={1}'.format(project, awardee)\n",
    "\n",
    "resp = requests.get(url, headers=headers)\n",
    "if not resp or resp.status_code != 200:\n",
    "    print('Error: api request failed.\\n\\n{0}.'.format(resp.text if resp else 'Unknown error.'))\n",
    "else:\n",
    "    ps_data = resp.json()\n",
    "    print('Success: retrieved {0} records.'.format(len(ps_data['entry'])))"
   ]
  },
  {
   "cell_type": "code",
   "execution_count": null,
   "metadata": {},
   "outputs": [],
   "source": [
    "# This cell creates a dataframe to show a graphical representation of what is returned.\n",
    "from datetime import datetime\n",
    "import pandas\n",
    "import matplotlib.pyplot as plt\n",
    "%matplotlib inline \n",
    "\n",
    "good_cols = ['ageRange', 'dateOfBirth', 'participantId', 'race', 'sex']\n",
    "\n",
    "data = []\n",
    "\n",
    "# loop over participant summary records, insert participant data in same order as good_cols.\n",
    "for entry in ps_data['entry']:\n",
    "    item = []\n",
    "    for col in good_cols:\n",
    "        for key, val in entry['resource'].items():\n",
    "            if col == key:\n",
    "                if key == 'dateOfBirth':                    \n",
    "                    item.append(datetime.strptime(val, '%Y-%m-%d'))\n",
    "                else:\n",
    "                    item.append(val)    \n",
    "    data.append(item)\n",
    "    \n",
    "frame = pandas.DataFrame(data, columns=good_cols)\n",
    "# print(frame)\n",
    "# print(frame[\"dateOfBirth\"].value_counts())\n",
    "plt.hist(frame[\"dateOfBirth\"].dt.weekday, bins=6)\n",
    "# plt.hist(frame[\"dateOfBirth\"].dt.year, bins=20)"
   ]
  },
  {
   "cell_type": "code",
   "execution_count": null,
   "metadata": {},
   "outputs": [],
   "source": [
    "# Deletes the google cloud key created in first step so that you don't hit the Google enforced limit of 10 keys.\n",
    "import os\n",
    "os.remove('gcloud_key.json')\n",
    "!gcloud -q iam service-accounts keys delete $key_id --account $pmi_account --iam-account $service_account"
   ]
  },
  {
   "cell_type": "markdown",
   "metadata": {},
   "source": [
    "###NOTES:\n",
    "* Cells will be added/modified by the dev team while working with data stewards to determine specific needs.\n",
    "* You are welcome to add cells to view info in different ways if you're comfortable with Python\n",
    "    * if you ever want to return this notebook to it's original state type `git checkout -- ops_data_api.ipynb` from the ops_data_api directory."
   ]
  }
 ],
 "metadata": {
  "kernelspec": {
   "display_name": "Python 3",
   "language": "python",
   "name": "python3"
  },
  "language_info": {
   "codemirror_mode": {
    "name": "ipython",
    "version": 3
   },
   "file_extension": ".py",
   "mimetype": "text/x-python",
   "name": "python",
   "nbconvert_exporter": "python",
   "pygments_lexer": "ipython3",
   "version": "3.6.5"
  }
 },
 "nbformat": 4,
 "nbformat_minor": 2
}
